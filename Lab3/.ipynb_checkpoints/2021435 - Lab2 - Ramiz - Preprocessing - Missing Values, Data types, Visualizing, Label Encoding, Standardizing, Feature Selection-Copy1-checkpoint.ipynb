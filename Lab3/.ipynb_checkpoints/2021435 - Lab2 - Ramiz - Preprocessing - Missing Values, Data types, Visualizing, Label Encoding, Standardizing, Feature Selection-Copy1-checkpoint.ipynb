{
 "cells": [
  {
   "cell_type": "code",
   "execution_count": 1,
   "id": "b0767fc2",
   "metadata": {},
   "outputs": [],
   "source": [
    "import pandas as pd\n",
    "import seaborn as sns\n",
    "import matplotlib.pyplot as plt\n",
    "from sklearn.preprocessing import LabelEncoder\n",
    "from sklearn.preprocessing import StandardScaler\n",
    "from sklearn.preprocessing import MinMaxScaler\n",
    "from sklearn.model_selection import train_test_split\n",
    "import warnings\n",
    "warnings.filterwarnings(\"ignore\")\n",
    "import time"
   ]
  },
  {
   "cell_type": "code",
   "execution_count": 2,
   "id": "b36e84c0",
   "metadata": {},
   "outputs": [],
   "source": [
    "df = pd.read_csv('../fifa_dataset.csv')"
   ]
  },
  {
   "cell_type": "markdown",
   "id": "685ae6a5",
   "metadata": {},
   "source": [
    "# Dealing with Missing Values"
   ]
  },
  {
   "cell_type": "code",
   "execution_count": 3,
   "id": "1dabdd6b",
   "metadata": {},
   "outputs": [],
   "source": [
    "df.drop(columns='Loaned From',inplace=True) # I dropped this column as 90% of the values were missing"
   ]
  },
  {
   "cell_type": "code",
   "execution_count": 4,
   "id": "01677ef2",
   "metadata": {},
   "outputs": [],
   "source": [
    "df.dropna(inplace=True)"
   ]
  },
  {
   "cell_type": "code",
   "execution_count": 5,
   "id": "78d196ca",
   "metadata": {
    "scrolled": true
   },
   "outputs": [
    {
     "name": "stdout",
     "output_type": "stream",
     "text": [
      "<class 'pandas.core.frame.DataFrame'>\n",
      "Int64Index: 16643 entries, 0 to 18206\n",
      "Data columns (total 56 columns):\n",
      " #   Column                    Non-Null Count  Dtype  \n",
      "---  ------                    --------------  -----  \n",
      " 0   ID                        16643 non-null  int64  \n",
      " 1   Name                      16643 non-null  object \n",
      " 2   Age                       16643 non-null  int64  \n",
      " 3   Nationality               16643 non-null  object \n",
      " 4   Overall                   16643 non-null  int64  \n",
      " 5   Potential                 16643 non-null  int64  \n",
      " 6   Club                      16643 non-null  object \n",
      " 7   Value                     16643 non-null  object \n",
      " 8   Wage                      16643 non-null  object \n",
      " 9   Preferred Foot            16643 non-null  object \n",
      " 10  International Reputation  16643 non-null  float64\n",
      " 11  Weak Foot                 16643 non-null  float64\n",
      " 12  Skill Moves               16643 non-null  float64\n",
      " 13  Work Rate                 16643 non-null  object \n",
      " 14  Body Type                 16643 non-null  object \n",
      " 15  Position                  16643 non-null  object \n",
      " 16  Jersey Number             16643 non-null  float64\n",
      " 17  Joined                    16643 non-null  object \n",
      " 18  Contract Valid Until      16643 non-null  object \n",
      " 19  Height                    16643 non-null  object \n",
      " 20  Weight                    16643 non-null  object \n",
      " 21  Crossing                  16643 non-null  float64\n",
      " 22  Finishing                 16643 non-null  float64\n",
      " 23  HeadingAccuracy           16643 non-null  float64\n",
      " 24  ShortPassing              16643 non-null  float64\n",
      " 25  Volleys                   16643 non-null  float64\n",
      " 26  Dribbling                 16643 non-null  float64\n",
      " 27  Curve                     16643 non-null  float64\n",
      " 28  FKAccuracy                16643 non-null  float64\n",
      " 29  LongPassing               16643 non-null  float64\n",
      " 30  BallControl               16643 non-null  float64\n",
      " 31  Acceleration              16643 non-null  float64\n",
      " 32  SprintSpeed               16643 non-null  float64\n",
      " 33  Agility                   16643 non-null  float64\n",
      " 34  Reactions                 16643 non-null  float64\n",
      " 35  Balance                   16643 non-null  float64\n",
      " 36  ShotPower                 16643 non-null  float64\n",
      " 37  Jumping                   16643 non-null  float64\n",
      " 38  Stamina                   16643 non-null  float64\n",
      " 39  Strength                  16643 non-null  float64\n",
      " 40  LongShots                 16643 non-null  float64\n",
      " 41  Aggression                16643 non-null  float64\n",
      " 42  Interceptions             16643 non-null  float64\n",
      " 43  Positioning               16643 non-null  float64\n",
      " 44  Vision                    16643 non-null  float64\n",
      " 45  Penalties                 16643 non-null  float64\n",
      " 46  Composure                 16643 non-null  float64\n",
      " 47  Marking                   16643 non-null  float64\n",
      " 48  StandingTackle            16643 non-null  float64\n",
      " 49  SlidingTackle             16643 non-null  float64\n",
      " 50  GKDiving                  16643 non-null  float64\n",
      " 51  GKHandling                16643 non-null  float64\n",
      " 52  GKKicking                 16643 non-null  float64\n",
      " 53  GKPositioning             16643 non-null  float64\n",
      " 54  GKReflexes                16643 non-null  float64\n",
      " 55  Release Clause            16643 non-null  object \n",
      "dtypes: float64(38), int64(4), object(14)\n",
      "memory usage: 7.2+ MB\n"
     ]
    }
   ],
   "source": [
    "df.info()"
   ]
  },
  {
   "cell_type": "markdown",
   "id": "9abc344c",
   "metadata": {},
   "source": [
    "# Converting Column Data types to their correct Data types"
   ]
  },
  {
   "cell_type": "code",
   "execution_count": 6,
   "id": "7d3fdb3b",
   "metadata": {},
   "outputs": [
    {
     "name": "stdout",
     "output_type": "stream",
     "text": [
      "Name\n"
     ]
    },
    {
     "data": {
      "text/plain": [
       "0             L. Messi\n",
       "1    Cristiano Ronaldo\n",
       "2            Neymar Jr\n",
       "3               De Gea\n",
       "4         K. De Bruyne\n",
       "Name: Name, dtype: object"
      ]
     },
     "metadata": {},
     "output_type": "display_data"
    },
    {
     "name": "stdout",
     "output_type": "stream",
     "text": [
      "Nationality\n"
     ]
    },
    {
     "data": {
      "text/plain": [
       "0    Argentina\n",
       "1     Portugal\n",
       "2       Brazil\n",
       "3        Spain\n",
       "4      Belgium\n",
       "Name: Nationality, dtype: object"
      ]
     },
     "metadata": {},
     "output_type": "display_data"
    },
    {
     "name": "stdout",
     "output_type": "stream",
     "text": [
      "Club\n"
     ]
    },
    {
     "data": {
      "text/plain": [
       "0           FC Barcelona\n",
       "1               Juventus\n",
       "2    Paris Saint-Germain\n",
       "3      Manchester United\n",
       "4        Manchester City\n",
       "Name: Club, dtype: object"
      ]
     },
     "metadata": {},
     "output_type": "display_data"
    },
    {
     "name": "stdout",
     "output_type": "stream",
     "text": [
      "Value\n"
     ]
    },
    {
     "data": {
      "text/plain": [
       "0    €110.5M\n",
       "1       €77M\n",
       "2    €118.5M\n",
       "3       €72M\n",
       "4      €102M\n",
       "Name: Value, dtype: object"
      ]
     },
     "metadata": {},
     "output_type": "display_data"
    },
    {
     "name": "stdout",
     "output_type": "stream",
     "text": [
      "Wage\n"
     ]
    },
    {
     "data": {
      "text/plain": [
       "0    €565K\n",
       "1    €405K\n",
       "2    €290K\n",
       "3    €260K\n",
       "4    €355K\n",
       "Name: Wage, dtype: object"
      ]
     },
     "metadata": {},
     "output_type": "display_data"
    },
    {
     "name": "stdout",
     "output_type": "stream",
     "text": [
      "Preferred Foot\n"
     ]
    },
    {
     "data": {
      "text/plain": [
       "0     Left\n",
       "1    Right\n",
       "2    Right\n",
       "3    Right\n",
       "4    Right\n",
       "Name: Preferred Foot, dtype: object"
      ]
     },
     "metadata": {},
     "output_type": "display_data"
    },
    {
     "name": "stdout",
     "output_type": "stream",
     "text": [
      "Work Rate\n"
     ]
    },
    {
     "data": {
      "text/plain": [
       "0    Medium/ Medium\n",
       "1         High/ Low\n",
       "2      High/ Medium\n",
       "3    Medium/ Medium\n",
       "4        High/ High\n",
       "Name: Work Rate, dtype: object"
      ]
     },
     "metadata": {},
     "output_type": "display_data"
    },
    {
     "name": "stdout",
     "output_type": "stream",
     "text": [
      "Body Type\n"
     ]
    },
    {
     "data": {
      "text/plain": [
       "0         Messi\n",
       "1    C. Ronaldo\n",
       "2        Neymar\n",
       "3          Lean\n",
       "4        Normal\n",
       "Name: Body Type, dtype: object"
      ]
     },
     "metadata": {},
     "output_type": "display_data"
    },
    {
     "name": "stdout",
     "output_type": "stream",
     "text": [
      "Position\n"
     ]
    },
    {
     "data": {
      "text/plain": [
       "0     RF\n",
       "1     ST\n",
       "2     LW\n",
       "3     GK\n",
       "4    RCM\n",
       "Name: Position, dtype: object"
      ]
     },
     "metadata": {},
     "output_type": "display_data"
    },
    {
     "name": "stdout",
     "output_type": "stream",
     "text": [
      "Joined\n"
     ]
    },
    {
     "data": {
      "text/plain": [
       "0     Jul 1, 2004\n",
       "1    Jul 10, 2018\n",
       "2     Aug 3, 2017\n",
       "3     Jul 1, 2011\n",
       "4    Aug 30, 2015\n",
       "Name: Joined, dtype: object"
      ]
     },
     "metadata": {},
     "output_type": "display_data"
    },
    {
     "name": "stdout",
     "output_type": "stream",
     "text": [
      "Contract Valid Until\n"
     ]
    },
    {
     "data": {
      "text/plain": [
       "0    2021\n",
       "1    2022\n",
       "2    2022\n",
       "3    2020\n",
       "4    2023\n",
       "Name: Contract Valid Until, dtype: object"
      ]
     },
     "metadata": {},
     "output_type": "display_data"
    },
    {
     "name": "stdout",
     "output_type": "stream",
     "text": [
      "Height\n"
     ]
    },
    {
     "data": {
      "text/plain": [
       "0     5'7\n",
       "1     6'2\n",
       "2     5'9\n",
       "3     6'4\n",
       "4    5'11\n",
       "Name: Height, dtype: object"
      ]
     },
     "metadata": {},
     "output_type": "display_data"
    },
    {
     "name": "stdout",
     "output_type": "stream",
     "text": [
      "Weight\n"
     ]
    },
    {
     "data": {
      "text/plain": [
       "0    159lbs\n",
       "1    183lbs\n",
       "2    150lbs\n",
       "3    168lbs\n",
       "4    154lbs\n",
       "Name: Weight, dtype: object"
      ]
     },
     "metadata": {},
     "output_type": "display_data"
    },
    {
     "name": "stdout",
     "output_type": "stream",
     "text": [
      "Release Clause\n"
     ]
    },
    {
     "data": {
      "text/plain": [
       "0    €226.5M\n",
       "1    €127.1M\n",
       "2    €228.1M\n",
       "3    €138.6M\n",
       "4    €196.4M\n",
       "Name: Release Clause, dtype: object"
      ]
     },
     "metadata": {},
     "output_type": "display_data"
    }
   ],
   "source": [
    "for col in df.columns:\n",
    "    if df[col].dtype=='object':\n",
    "        print(col)\n",
    "        display(df[col].head())"
   ]
  },
  {
   "cell_type": "code",
   "execution_count": 7,
   "id": "c6878ce8",
   "metadata": {},
   "outputs": [],
   "source": [
    "# ['Value','Wage','Joined','Height','Weight','Release Clause']"
   ]
  },
  {
   "cell_type": "code",
   "execution_count": 8,
   "id": "c2409010",
   "metadata": {},
   "outputs": [
    {
     "data": {
      "text/plain": [
       "K    10446\n",
       "M     6197\n",
       "Name: Value, dtype: int64"
      ]
     },
     "execution_count": 8,
     "metadata": {},
     "output_type": "execute_result"
    }
   ],
   "source": [
    "df['Value'].apply(lambda x: x[-1]).value_counts()"
   ]
  },
  {
   "cell_type": "code",
   "execution_count": 9,
   "id": "df238f5a",
   "metadata": {},
   "outputs": [
    {
     "data": {
      "text/plain": [
       "€    16643\n",
       "Name: Value, dtype: int64"
      ]
     },
     "execution_count": 9,
     "metadata": {},
     "output_type": "execute_result"
    }
   ],
   "source": [
    "df['Value'].apply(lambda x: x[0]).value_counts()"
   ]
  },
  {
   "cell_type": "code",
   "execution_count": 10,
   "id": "b89f0bd1",
   "metadata": {},
   "outputs": [],
   "source": [
    "df['Value'] = df['Value'].apply(lambda x: float(x[1:-1])*1000 if x[-1]=='K' else float(x[1:-1])*1000000)"
   ]
  },
  {
   "cell_type": "code",
   "execution_count": 11,
   "id": "e22bcc22",
   "metadata": {},
   "outputs": [
    {
     "data": {
      "text/plain": [
       "K    16643\n",
       "Name: Wage, dtype: int64"
      ]
     },
     "execution_count": 11,
     "metadata": {},
     "output_type": "execute_result"
    }
   ],
   "source": [
    "df['Wage'].apply(lambda x: x[-1]).value_counts()"
   ]
  },
  {
   "cell_type": "code",
   "execution_count": 12,
   "id": "2e747b98",
   "metadata": {},
   "outputs": [
    {
     "data": {
      "text/plain": [
       "€    16643\n",
       "Name: Wage, dtype: int64"
      ]
     },
     "execution_count": 12,
     "metadata": {},
     "output_type": "execute_result"
    }
   ],
   "source": [
    "df['Wage'].apply(lambda x: x[0]).value_counts()"
   ]
  },
  {
   "cell_type": "code",
   "execution_count": 13,
   "id": "8179cc45",
   "metadata": {},
   "outputs": [],
   "source": [
    "df['Wage'] = df['Wage'].apply(lambda x: float(x[1:-1])*1000 if x[-1]=='K' else float(x[1:-1])*1000000)"
   ]
  },
  {
   "cell_type": "code",
   "execution_count": 14,
   "id": "e557b345",
   "metadata": {},
   "outputs": [],
   "source": [
    "df['Joined'] = pd.to_datetime(df['Joined'])"
   ]
  },
  {
   "cell_type": "code",
   "execution_count": 15,
   "id": "c86abb75",
   "metadata": {},
   "outputs": [],
   "source": [
    "df['Height'] = df['Height'].apply(lambda x: int(x[0])*12 + int(x[-1]))"
   ]
  },
  {
   "cell_type": "code",
   "execution_count": 16,
   "id": "ac35a1ef",
   "metadata": {},
   "outputs": [],
   "source": [
    "df['Weight'] = df['Weight'].apply(lambda x: int(x[:-3]))"
   ]
  },
  {
   "cell_type": "code",
   "execution_count": 17,
   "id": "3a393c63",
   "metadata": {},
   "outputs": [
    {
     "data": {
      "text/plain": [
       "M    9150\n",
       "K    7493\n",
       "Name: Release Clause, dtype: int64"
      ]
     },
     "execution_count": 17,
     "metadata": {},
     "output_type": "execute_result"
    }
   ],
   "source": [
    "df['Release Clause'].apply(lambda x: x[-1]).value_counts()"
   ]
  },
  {
   "cell_type": "code",
   "execution_count": 18,
   "id": "38ae608a",
   "metadata": {},
   "outputs": [
    {
     "data": {
      "text/plain": [
       "€    16643\n",
       "Name: Release Clause, dtype: int64"
      ]
     },
     "execution_count": 18,
     "metadata": {},
     "output_type": "execute_result"
    }
   ],
   "source": [
    "df['Release Clause'].apply(lambda x: x[0]).value_counts()"
   ]
  },
  {
   "cell_type": "code",
   "execution_count": 19,
   "id": "b6c833c9",
   "metadata": {},
   "outputs": [],
   "source": [
    "df['Release Clause'] = df['Release Clause'].apply(lambda x: float(x[1:-1])*1000 if x[-1]=='K' else float(x[1:-1])*1000000)"
   ]
  },
  {
   "cell_type": "code",
   "execution_count": 20,
   "id": "f3c1258d",
   "metadata": {
    "scrolled": true
   },
   "outputs": [
    {
     "name": "stdout",
     "output_type": "stream",
     "text": [
      "<class 'pandas.core.frame.DataFrame'>\n",
      "Int64Index: 16643 entries, 0 to 18206\n",
      "Data columns (total 56 columns):\n",
      " #   Column                    Non-Null Count  Dtype         \n",
      "---  ------                    --------------  -----         \n",
      " 0   ID                        16643 non-null  int64         \n",
      " 1   Name                      16643 non-null  object        \n",
      " 2   Age                       16643 non-null  int64         \n",
      " 3   Nationality               16643 non-null  object        \n",
      " 4   Overall                   16643 non-null  int64         \n",
      " 5   Potential                 16643 non-null  int64         \n",
      " 6   Club                      16643 non-null  object        \n",
      " 7   Value                     16643 non-null  float64       \n",
      " 8   Wage                      16643 non-null  float64       \n",
      " 9   Preferred Foot            16643 non-null  object        \n",
      " 10  International Reputation  16643 non-null  float64       \n",
      " 11  Weak Foot                 16643 non-null  float64       \n",
      " 12  Skill Moves               16643 non-null  float64       \n",
      " 13  Work Rate                 16643 non-null  object        \n",
      " 14  Body Type                 16643 non-null  object        \n",
      " 15  Position                  16643 non-null  object        \n",
      " 16  Jersey Number             16643 non-null  float64       \n",
      " 17  Joined                    16643 non-null  datetime64[ns]\n",
      " 18  Contract Valid Until      16643 non-null  object        \n",
      " 19  Height                    16643 non-null  int64         \n",
      " 20  Weight                    16643 non-null  int64         \n",
      " 21  Crossing                  16643 non-null  float64       \n",
      " 22  Finishing                 16643 non-null  float64       \n",
      " 23  HeadingAccuracy           16643 non-null  float64       \n",
      " 24  ShortPassing              16643 non-null  float64       \n",
      " 25  Volleys                   16643 non-null  float64       \n",
      " 26  Dribbling                 16643 non-null  float64       \n",
      " 27  Curve                     16643 non-null  float64       \n",
      " 28  FKAccuracy                16643 non-null  float64       \n",
      " 29  LongPassing               16643 non-null  float64       \n",
      " 30  BallControl               16643 non-null  float64       \n",
      " 31  Acceleration              16643 non-null  float64       \n",
      " 32  SprintSpeed               16643 non-null  float64       \n",
      " 33  Agility                   16643 non-null  float64       \n",
      " 34  Reactions                 16643 non-null  float64       \n",
      " 35  Balance                   16643 non-null  float64       \n",
      " 36  ShotPower                 16643 non-null  float64       \n",
      " 37  Jumping                   16643 non-null  float64       \n",
      " 38  Stamina                   16643 non-null  float64       \n",
      " 39  Strength                  16643 non-null  float64       \n",
      " 40  LongShots                 16643 non-null  float64       \n",
      " 41  Aggression                16643 non-null  float64       \n",
      " 42  Interceptions             16643 non-null  float64       \n",
      " 43  Positioning               16643 non-null  float64       \n",
      " 44  Vision                    16643 non-null  float64       \n",
      " 45  Penalties                 16643 non-null  float64       \n",
      " 46  Composure                 16643 non-null  float64       \n",
      " 47  Marking                   16643 non-null  float64       \n",
      " 48  StandingTackle            16643 non-null  float64       \n",
      " 49  SlidingTackle             16643 non-null  float64       \n",
      " 50  GKDiving                  16643 non-null  float64       \n",
      " 51  GKHandling                16643 non-null  float64       \n",
      " 52  GKKicking                 16643 non-null  float64       \n",
      " 53  GKPositioning             16643 non-null  float64       \n",
      " 54  GKReflexes                16643 non-null  float64       \n",
      " 55  Release Clause            16643 non-null  float64       \n",
      "dtypes: datetime64[ns](1), float64(41), int64(6), object(8)\n",
      "memory usage: 7.2+ MB\n"
     ]
    }
   ],
   "source": [
    "df.info()"
   ]
  },
  {
   "cell_type": "code",
   "execution_count": 21,
   "id": "9add3092",
   "metadata": {
    "scrolled": true
   },
   "outputs": [
    {
     "name": "stdout",
     "output_type": "stream",
     "text": [
      "Name\n"
     ]
    },
    {
     "data": {
      "text/plain": [
       "0             L. Messi\n",
       "1    Cristiano Ronaldo\n",
       "2            Neymar Jr\n",
       "3               De Gea\n",
       "4         K. De Bruyne\n",
       "Name: Name, dtype: object"
      ]
     },
     "metadata": {},
     "output_type": "display_data"
    },
    {
     "name": "stdout",
     "output_type": "stream",
     "text": [
      "Nationality\n"
     ]
    },
    {
     "data": {
      "text/plain": [
       "0    Argentina\n",
       "1     Portugal\n",
       "2       Brazil\n",
       "3        Spain\n",
       "4      Belgium\n",
       "Name: Nationality, dtype: object"
      ]
     },
     "metadata": {},
     "output_type": "display_data"
    },
    {
     "name": "stdout",
     "output_type": "stream",
     "text": [
      "Club\n"
     ]
    },
    {
     "data": {
      "text/plain": [
       "0           FC Barcelona\n",
       "1               Juventus\n",
       "2    Paris Saint-Germain\n",
       "3      Manchester United\n",
       "4        Manchester City\n",
       "Name: Club, dtype: object"
      ]
     },
     "metadata": {},
     "output_type": "display_data"
    },
    {
     "name": "stdout",
     "output_type": "stream",
     "text": [
      "Preferred Foot\n"
     ]
    },
    {
     "data": {
      "text/plain": [
       "0     Left\n",
       "1    Right\n",
       "2    Right\n",
       "3    Right\n",
       "4    Right\n",
       "Name: Preferred Foot, dtype: object"
      ]
     },
     "metadata": {},
     "output_type": "display_data"
    },
    {
     "name": "stdout",
     "output_type": "stream",
     "text": [
      "Work Rate\n"
     ]
    },
    {
     "data": {
      "text/plain": [
       "0    Medium/ Medium\n",
       "1         High/ Low\n",
       "2      High/ Medium\n",
       "3    Medium/ Medium\n",
       "4        High/ High\n",
       "Name: Work Rate, dtype: object"
      ]
     },
     "metadata": {},
     "output_type": "display_data"
    },
    {
     "name": "stdout",
     "output_type": "stream",
     "text": [
      "Body Type\n"
     ]
    },
    {
     "data": {
      "text/plain": [
       "0         Messi\n",
       "1    C. Ronaldo\n",
       "2        Neymar\n",
       "3          Lean\n",
       "4        Normal\n",
       "Name: Body Type, dtype: object"
      ]
     },
     "metadata": {},
     "output_type": "display_data"
    },
    {
     "name": "stdout",
     "output_type": "stream",
     "text": [
      "Position\n"
     ]
    },
    {
     "data": {
      "text/plain": [
       "0     RF\n",
       "1     ST\n",
       "2     LW\n",
       "3     GK\n",
       "4    RCM\n",
       "Name: Position, dtype: object"
      ]
     },
     "metadata": {},
     "output_type": "display_data"
    },
    {
     "name": "stdout",
     "output_type": "stream",
     "text": [
      "Contract Valid Until\n"
     ]
    },
    {
     "data": {
      "text/plain": [
       "0    2021\n",
       "1    2022\n",
       "2    2022\n",
       "3    2020\n",
       "4    2023\n",
       "Name: Contract Valid Until, dtype: object"
      ]
     },
     "metadata": {},
     "output_type": "display_data"
    }
   ],
   "source": [
    "for col in df.columns:\n",
    "    if df[col].dtype=='object':\n",
    "        print(col)\n",
    "        display(df[col].head())"
   ]
  },
  {
   "cell_type": "markdown",
   "id": "4a1134fe",
   "metadata": {},
   "source": [
    "# Converting Joined Column to Datetime Data type"
   ]
  },
  {
   "cell_type": "code",
   "execution_count": 22,
   "id": "638249ed",
   "metadata": {},
   "outputs": [],
   "source": [
    "df1 = df.drop(columns='Name')"
   ]
  },
  {
   "cell_type": "code",
   "execution_count": 23,
   "id": "b63e555a",
   "metadata": {},
   "outputs": [],
   "source": [
    "df1['Joined'] = df1['Joined'].apply(lambda x: (time.mktime(x.timetuple())))"
   ]
  },
  {
   "cell_type": "markdown",
   "id": "33119c20",
   "metadata": {},
   "source": [
    "# Converting Labels to Numerical Data type - LabelEncoder"
   ]
  },
  {
   "cell_type": "code",
   "execution_count": 24,
   "id": "4cdc2a89",
   "metadata": {},
   "outputs": [],
   "source": [
    "le = LabelEncoder()\n",
    "for col in df1.columns:\n",
    "#     if df1[col].dtype=='object':\n",
    "    df1[col] = le.fit_transform(df1[col])"
   ]
  },
  {
   "cell_type": "code",
   "execution_count": 25,
   "id": "b135695d",
   "metadata": {},
   "outputs": [],
   "source": [
    "df2 = df1.copy()"
   ]
  },
  {
   "cell_type": "code",
   "execution_count": 25,
   "id": "be62f8e3",
   "metadata": {},
   "outputs": [],
   "source": [
    "df1.to_csv('../fifa_dataset2.csv')"
   ]
  },
  {
   "cell_type": "markdown",
   "id": "27a524e1",
   "metadata": {},
   "source": [
    "# Feature Selection"
   ]
  },
  {
   "cell_type": "code",
   "execution_count": 29,
   "id": "b0d5fcbe",
   "metadata": {},
   "outputs": [],
   "source": [
    "from sklearn.feature_selection import SelectKBest, f_classif, chi2, RFE\n",
    "from sklearn.ensemble import RandomForestClassifier, RandomForestRegressor\n",
    "from sklearn.feature_selection import mutual_info_classif, VarianceThreshold, SelectFromModel, mutual_info_regression\n",
    "from sklearn.linear_model import Lasso\n",
    "from sklearn.decomposition import PCA\n",
    "from sklearn.discriminant_analysis import LinearDiscriminantAnalysis"
   ]
  },
  {
   "cell_type": "code",
   "execution_count": 30,
   "id": "01e4a0ef",
   "metadata": {},
   "outputs": [
    {
     "name": "stdout",
     "output_type": "stream",
     "text": [
      "Selected Features (SelectKBest with ANOVA F-statistic): ['Overall', 'Potential', 'Value', 'Wage', 'Release Clause']\n",
      "Selected Features (Correlation Coefficient with Output variable): ['Value', 'Overall', 'Potential', 'Reactions', 'Composure']\n",
      "Selected Features (Mutual Information): ['Overall', 'Potential', 'Value', 'Reactions', 'Composure']\n",
      "Selected Features (Variance Threshold): ['ID', 'Age', 'Nationality', 'Overall', 'Potential', 'Club', 'Value', 'Wage', 'Preferred Foot', 'International Reputation', 'Weak Foot', 'Skill Moves', 'Work Rate', 'Body Type', 'Position', 'Jersey Number', 'Joined', 'Contract Valid Until', 'Height', 'Weight', 'Crossing', 'Finishing', 'HeadingAccuracy', 'ShortPassing', 'Volleys', 'Dribbling', 'Curve', 'FKAccuracy', 'LongPassing', 'BallControl', 'Acceleration', 'SprintSpeed', 'Agility', 'Reactions', 'Balance', 'ShotPower', 'Jumping', 'Stamina', 'Strength', 'LongShots', 'Aggression', 'Interceptions', 'Positioning', 'Vision', 'Penalties', 'Composure', 'Marking', 'StandingTackle', 'SlidingTackle', 'GKDiving', 'GKHandling', 'GKKicking', 'GKPositioning', 'GKReflexes']\n",
      "Selected Features (LASSO Regularization): ['Age', 'Overall', 'Potential', 'International Reputation', 'Contract Valid Until']\n",
      "Selected Features (Principal Component Analysis): ['PCA_1', 'PCA_2', 'PCA_3', 'PCA_4', 'PCA_5']\n"
     ]
    }
   ],
   "source": [
    "from sklearn.feature_selection import SelectKBest, f_classif, chi2, RFE\n",
    "from sklearn.ensemble import RandomForestClassifier, RandomForestRegressor\n",
    "from sklearn.feature_selection import mutual_info_classif, VarianceThreshold, SelectFromModel, mutual_info_regression\n",
    "from sklearn.linear_model import Lasso\n",
    "from sklearn.decomposition import PCA\n",
    "from sklearn.discriminant_analysis import LinearDiscriminantAnalysis\n",
    "\n",
    "# SelectKBest with ANOVA F-statistic\n",
    "selector_f_classif = SelectKBest(score_func=f_classif, k=5)\n",
    "X_new_f_classif = selector_f_classif.fit_transform(df2, df2['Release Clause'])\n",
    "selected_features_f_classif = df2.columns[selector_f_classif.get_support()].tolist()\n",
    "\n",
    "# # SelectKBest with Chi-Squared statistic (for categorical features)\n",
    "# selector_chi2 = SelectKBest(score_func=chi2, k=5)\n",
    "# X_new_chi2 = selector_chi2.fit_transform(df2.drop('Release Clause', axis=1), df2['Release Clause'])\n",
    "# selected_features_chi2 = df2.columns[selector_chi2.get_support()].tolist()\n",
    "\n",
    "# # Recursive Feature Elimination (RFE) with Random Forest\n",
    "# rf_classifier = RandomForestRegressor(n_estimators=100)\n",
    "# selector_rfe = RFE(estimator=rf_classifier, n_features_to_select=5, step=1)\n",
    "# X_new_rfe = selector_rfe.fit_transform(df2, df2['Release Clause'])\n",
    "# selected_features_rfe = df2.columns[selector_rfe.support_].tolist()\n",
    "\n",
    "# Filter Methods\n",
    "\n",
    "# Correlation Coefficient with Output variable\n",
    "correlation_matrix = df2.corr()\n",
    "correlation_with_output = correlation_matrix['Release Clause'].abs().sort_values(ascending=False)\n",
    "selected_features_correlation = correlation_with_output.index[1:6].tolist()\n",
    "\n",
    "# Mutual Information\n",
    "X_mi = df2.drop('Release Clause', axis=1)\n",
    "y_mi = df2['Release Clause']\n",
    "mi_selector = SelectKBest(score_func=mutual_info_regression, k=5)\n",
    "X_new_mi = mi_selector.fit_transform(X_mi, y_mi)\n",
    "selected_features_mi = X_mi.columns[mi_selector.get_support()].tolist()\n",
    "\n",
    "# Variance Threshold\n",
    "selector_variance = VarianceThreshold(threshold=0.1)\n",
    "X_new_variance = selector_variance.fit_transform(X_mi)\n",
    "selected_features_variance = X_mi.columns[selector_variance.get_support()].tolist()\n",
    "\n",
    "# LASSO Regularization (L1)\n",
    "lasso_selector = SelectFromModel(estimator=Lasso(), max_features=5)\n",
    "X_new_lasso = lasso_selector.fit_transform(X_mi, y_mi)\n",
    "selected_features_lasso = X_mi.columns[lasso_selector.get_support()].tolist()\n",
    "\n",
    "# Principal Component Analysis (PCA)\n",
    "pca = PCA(n_components=5)\n",
    "X_new_pca = pca.fit_transform(X_mi)\n",
    "selected_features_pca = [f\"PCA_{i}\" for i in range(1, 6)]\n",
    "\n",
    "# # Linear Discriminant Analysis (LDA)\n",
    "# lda = LinearDiscriminantAnalysis(n_components=5)\n",
    "# X_new_lda = lda.fit_transform(X_mi, y_mi)\n",
    "# selected_features_lda = [f\"LDA_{i}\" for i in range(1, 6)]\n",
    "\n",
    "# Display the selected features for each feature selection technique\n",
    "print(\"Selected Features (SelectKBest with ANOVA F-statistic):\", selected_features_f_classif)\n",
    "# print(\"Selected Features (SelectKBest with Chi-Squared):\", selected_features_chi2)\n",
    "# print(\"Selected Features (RFE with Random Forest):\", selected_features_rfe)\n",
    "print(\"Selected Features (Correlation Coefficient with Output variable):\", selected_features_correlation)\n",
    "print(\"Selected Features (Mutual Information):\", selected_features_mi)\n",
    "print(\"Selected Features (Variance Threshold):\", selected_features_variance)\n",
    "print(\"Selected Features (LASSO Regularization):\", selected_features_lasso)\n",
    "print(\"Selected Features (Principal Component Analysis):\", selected_features_pca)\n",
    "# print(\"Selected Features (Linear Discriminant Analysis):\", selected_features_lda)"
   ]
  },
  {
   "cell_type": "markdown",
   "id": "a35970a3",
   "metadata": {},
   "source": [
    "# Removing features with low variance - Variance Threshold"
   ]
  },
  {
   "cell_type": "code",
   "execution_count": 31,
   "id": "707a54be",
   "metadata": {},
   "outputs": [],
   "source": [
    "X = df2.drop('Release Clause',axis=1)\n",
    "y = df2['Release Clause']"
   ]
  },
  {
   "cell_type": "code",
   "execution_count": 32,
   "id": "230df7f0",
   "metadata": {
    "scrolled": true
   },
   "outputs": [
    {
     "data": {
      "text/html": [
       "<div>\n",
       "<style scoped>\n",
       "    .dataframe tbody tr th:only-of-type {\n",
       "        vertical-align: middle;\n",
       "    }\n",
       "\n",
       "    .dataframe tbody tr th {\n",
       "        vertical-align: top;\n",
       "    }\n",
       "\n",
       "    .dataframe thead th {\n",
       "        text-align: right;\n",
       "    }\n",
       "</style>\n",
       "<table border=\"1\" class=\"dataframe\">\n",
       "  <thead>\n",
       "    <tr style=\"text-align: right;\">\n",
       "      <th></th>\n",
       "      <th>Feature</th>\n",
       "      <th>Variance</th>\n",
       "    </tr>\n",
       "  </thead>\n",
       "  <tbody>\n",
       "    <tr>\n",
       "      <th>9</th>\n",
       "      <td>International Reputation</td>\n",
       "      <td>0.154278</td>\n",
       "    </tr>\n",
       "    <tr>\n",
       "      <th>8</th>\n",
       "      <td>Preferred Foot</td>\n",
       "      <td>0.175211</td>\n",
       "    </tr>\n",
       "    <tr>\n",
       "      <th>10</th>\n",
       "      <td>Weak Foot</td>\n",
       "      <td>0.435599</td>\n",
       "    </tr>\n",
       "    <tr>\n",
       "      <th>11</th>\n",
       "      <td>Skill Moves</td>\n",
       "      <td>0.573833</td>\n",
       "    </tr>\n",
       "    <tr>\n",
       "      <th>17</th>\n",
       "      <td>Contract Valid Until</td>\n",
       "      <td>1.669385</td>\n",
       "    </tr>\n",
       "    <tr>\n",
       "      <th>13</th>\n",
       "      <td>Body Type</td>\n",
       "      <td>2.975969</td>\n",
       "    </tr>\n",
       "    <tr>\n",
       "      <th>12</th>\n",
       "      <td>Work Rate</td>\n",
       "      <td>8.000000</td>\n",
       "    </tr>\n",
       "    <tr>\n",
       "      <th>18</th>\n",
       "      <td>Height</td>\n",
       "      <td>19.000000</td>\n",
       "    </tr>\n",
       "    <tr>\n",
       "      <th>1</th>\n",
       "      <td>Age</td>\n",
       "      <td>22.109915</td>\n",
       "    </tr>\n",
       "    <tr>\n",
       "      <th>14</th>\n",
       "      <td>Position</td>\n",
       "      <td>26.000000</td>\n",
       "    </tr>\n",
       "    <tr>\n",
       "      <th>4</th>\n",
       "      <td>Potential</td>\n",
       "      <td>37.770729</td>\n",
       "    </tr>\n",
       "    <tr>\n",
       "      <th>3</th>\n",
       "      <td>Overall</td>\n",
       "      <td>47.000000</td>\n",
       "    </tr>\n",
       "    <tr>\n",
       "      <th>19</th>\n",
       "      <td>Weight</td>\n",
       "      <td>50.280305</td>\n",
       "    </tr>\n",
       "    <tr>\n",
       "      <th>33</th>\n",
       "      <td>Reactions</td>\n",
       "      <td>66.000000</td>\n",
       "    </tr>\n",
       "    <tr>\n",
       "      <th>50</th>\n",
       "      <td>GKHandling</td>\n",
       "      <td>69.000000</td>\n",
       "    </tr>\n",
       "    <tr>\n",
       "      <th>49</th>\n",
       "      <td>GKDiving</td>\n",
       "      <td>69.000000</td>\n",
       "    </tr>\n",
       "    <tr>\n",
       "      <th>38</th>\n",
       "      <td>Strength</td>\n",
       "      <td>72.000000</td>\n",
       "    </tr>\n",
       "    <tr>\n",
       "      <th>53</th>\n",
       "      <td>GKReflexes</td>\n",
       "      <td>72.000000</td>\n",
       "    </tr>\n",
       "    <tr>\n",
       "      <th>36</th>\n",
       "      <td>Jumping</td>\n",
       "      <td>73.000000</td>\n",
       "    </tr>\n",
       "    <tr>\n",
       "      <th>52</th>\n",
       "      <td>GKPositioning</td>\n",
       "      <td>76.000000</td>\n",
       "    </tr>\n",
       "    <tr>\n",
       "      <th>51</th>\n",
       "      <td>GKKicking</td>\n",
       "      <td>77.000000</td>\n",
       "    </tr>\n",
       "    <tr>\n",
       "      <th>34</th>\n",
       "      <td>Balance</td>\n",
       "      <td>80.000000</td>\n",
       "    </tr>\n",
       "    <tr>\n",
       "      <th>32</th>\n",
       "      <td>Agility</td>\n",
       "      <td>80.000000</td>\n",
       "    </tr>\n",
       "    <tr>\n",
       "      <th>45</th>\n",
       "      <td>Composure</td>\n",
       "      <td>81.000000</td>\n",
       "    </tr>\n",
       "    <tr>\n",
       "      <th>28</th>\n",
       "      <td>LongPassing</td>\n",
       "      <td>83.000000</td>\n",
       "    </tr>\n",
       "    <tr>\n",
       "      <th>43</th>\n",
       "      <td>Vision</td>\n",
       "      <td>84.000000</td>\n",
       "    </tr>\n",
       "    <tr>\n",
       "      <th>40</th>\n",
       "      <td>Aggression</td>\n",
       "      <td>84.000000</td>\n",
       "    </tr>\n",
       "    <tr>\n",
       "      <th>23</th>\n",
       "      <td>ShortPassing</td>\n",
       "      <td>84.000000</td>\n",
       "    </tr>\n",
       "    <tr>\n",
       "      <th>37</th>\n",
       "      <td>Stamina</td>\n",
       "      <td>84.000000</td>\n",
       "    </tr>\n",
       "    <tr>\n",
       "      <th>31</th>\n",
       "      <td>SprintSpeed</td>\n",
       "      <td>84.000000</td>\n",
       "    </tr>\n",
       "    <tr>\n",
       "      <th>48</th>\n",
       "      <td>SlidingTackle</td>\n",
       "      <td>85.000000</td>\n",
       "    </tr>\n",
       "    <tr>\n",
       "      <th>30</th>\n",
       "      <td>Acceleration</td>\n",
       "      <td>85.000000</td>\n",
       "    </tr>\n",
       "    <tr>\n",
       "      <th>41</th>\n",
       "      <td>Interceptions</td>\n",
       "      <td>86.000000</td>\n",
       "    </tr>\n",
       "    <tr>\n",
       "      <th>44</th>\n",
       "      <td>Penalties</td>\n",
       "      <td>86.000000</td>\n",
       "    </tr>\n",
       "    <tr>\n",
       "      <th>26</th>\n",
       "      <td>Curve</td>\n",
       "      <td>86.000000</td>\n",
       "    </tr>\n",
       "    <tr>\n",
       "      <th>24</th>\n",
       "      <td>Volleys</td>\n",
       "      <td>86.000000</td>\n",
       "    </tr>\n",
       "    <tr>\n",
       "      <th>20</th>\n",
       "      <td>Crossing</td>\n",
       "      <td>87.000000</td>\n",
       "    </tr>\n",
       "    <tr>\n",
       "      <th>27</th>\n",
       "      <td>FKAccuracy</td>\n",
       "      <td>88.000000</td>\n",
       "    </tr>\n",
       "    <tr>\n",
       "      <th>46</th>\n",
       "      <td>Marking</td>\n",
       "      <td>88.000000</td>\n",
       "    </tr>\n",
       "    <tr>\n",
       "      <th>29</th>\n",
       "      <td>BallControl</td>\n",
       "      <td>88.000000</td>\n",
       "    </tr>\n",
       "    <tr>\n",
       "      <th>47</th>\n",
       "      <td>StandingTackle</td>\n",
       "      <td>89.000000</td>\n",
       "    </tr>\n",
       "    <tr>\n",
       "      <th>39</th>\n",
       "      <td>LongShots</td>\n",
       "      <td>89.000000</td>\n",
       "    </tr>\n",
       "    <tr>\n",
       "      <th>22</th>\n",
       "      <td>HeadingAccuracy</td>\n",
       "      <td>89.000000</td>\n",
       "    </tr>\n",
       "    <tr>\n",
       "      <th>21</th>\n",
       "      <td>Finishing</td>\n",
       "      <td>90.000000</td>\n",
       "    </tr>\n",
       "    <tr>\n",
       "      <th>35</th>\n",
       "      <td>ShotPower</td>\n",
       "      <td>91.000000</td>\n",
       "    </tr>\n",
       "    <tr>\n",
       "      <th>25</th>\n",
       "      <td>Dribbling</td>\n",
       "      <td>92.000000</td>\n",
       "    </tr>\n",
       "    <tr>\n",
       "      <th>42</th>\n",
       "      <td>Positioning</td>\n",
       "      <td>93.000000</td>\n",
       "    </tr>\n",
       "    <tr>\n",
       "      <th>15</th>\n",
       "      <td>Jersey Number</td>\n",
       "      <td>98.000000</td>\n",
       "    </tr>\n",
       "    <tr>\n",
       "      <th>7</th>\n",
       "      <td>Wage</td>\n",
       "      <td>139.000000</td>\n",
       "    </tr>\n",
       "    <tr>\n",
       "      <th>2</th>\n",
       "      <td>Nationality</td>\n",
       "      <td>160.000000</td>\n",
       "    </tr>\n",
       "    <tr>\n",
       "      <th>6</th>\n",
       "      <td>Value</td>\n",
       "      <td>215.000000</td>\n",
       "    </tr>\n",
       "    <tr>\n",
       "      <th>5</th>\n",
       "      <td>Club</td>\n",
       "      <td>650.000000</td>\n",
       "    </tr>\n",
       "    <tr>\n",
       "      <th>16</th>\n",
       "      <td>Joined</td>\n",
       "      <td>1734.000000</td>\n",
       "    </tr>\n",
       "    <tr>\n",
       "      <th>0</th>\n",
       "      <td>ID</td>\n",
       "      <td>16641.000000</td>\n",
       "    </tr>\n",
       "  </tbody>\n",
       "</table>\n",
       "</div>"
      ],
      "text/plain": [
       "                     Feature      Variance\n",
       "9   International Reputation      0.154278\n",
       "8             Preferred Foot      0.175211\n",
       "10                 Weak Foot      0.435599\n",
       "11               Skill Moves      0.573833\n",
       "17      Contract Valid Until      1.669385\n",
       "13                 Body Type      2.975969\n",
       "12                 Work Rate      8.000000\n",
       "18                    Height     19.000000\n",
       "1                        Age     22.109915\n",
       "14                  Position     26.000000\n",
       "4                  Potential     37.770729\n",
       "3                    Overall     47.000000\n",
       "19                    Weight     50.280305\n",
       "33                 Reactions     66.000000\n",
       "50                GKHandling     69.000000\n",
       "49                  GKDiving     69.000000\n",
       "38                  Strength     72.000000\n",
       "53                GKReflexes     72.000000\n",
       "36                   Jumping     73.000000\n",
       "52             GKPositioning     76.000000\n",
       "51                 GKKicking     77.000000\n",
       "34                   Balance     80.000000\n",
       "32                   Agility     80.000000\n",
       "45                 Composure     81.000000\n",
       "28               LongPassing     83.000000\n",
       "43                    Vision     84.000000\n",
       "40                Aggression     84.000000\n",
       "23              ShortPassing     84.000000\n",
       "37                   Stamina     84.000000\n",
       "31               SprintSpeed     84.000000\n",
       "48             SlidingTackle     85.000000\n",
       "30              Acceleration     85.000000\n",
       "41             Interceptions     86.000000\n",
       "44                 Penalties     86.000000\n",
       "26                     Curve     86.000000\n",
       "24                   Volleys     86.000000\n",
       "20                  Crossing     87.000000\n",
       "27                FKAccuracy     88.000000\n",
       "46                   Marking     88.000000\n",
       "29               BallControl     88.000000\n",
       "47            StandingTackle     89.000000\n",
       "39                 LongShots     89.000000\n",
       "22           HeadingAccuracy     89.000000\n",
       "21                 Finishing     90.000000\n",
       "35                 ShotPower     91.000000\n",
       "25                 Dribbling     92.000000\n",
       "42               Positioning     93.000000\n",
       "15             Jersey Number     98.000000\n",
       "7                       Wage    139.000000\n",
       "2                Nationality    160.000000\n",
       "6                      Value    215.000000\n",
       "5                       Club    650.000000\n",
       "16                    Joined   1734.000000\n",
       "0                         ID  16641.000000"
      ]
     },
     "execution_count": 32,
     "metadata": {},
     "output_type": "execute_result"
    }
   ],
   "source": [
    "from sklearn.feature_selection import VarianceThreshold\n",
    "\n",
    "X_train, X_test, y_train, y_test = train_test_split(X, y, random_state=42, test_size=.30)\n",
    "\n",
    "vth = VarianceThreshold(threshold=0)  # as deafult threshold=0\n",
    "vth.fit(X_train)\n",
    "X_train_vth = X_train.iloc[:, vth.get_support()]\n",
    "\n",
    "df3 = pd.DataFrame( {'Feature': X_train.columns,'Variance': vth.variances_,}).sort_values('Variance', ascending=True)\n",
    "df3"
   ]
  },
  {
   "cell_type": "markdown",
   "id": "48680f70",
   "metadata": {},
   "source": [
    "# Select KBest for Regression Problems"
   ]
  },
  {
   "cell_type": "code",
   "execution_count": 33,
   "id": "245a3e3c",
   "metadata": {
    "scrolled": true
   },
   "outputs": [
    {
     "name": "stdout",
     "output_type": "stream",
     "text": [
      "Feature 0 : 1120.484\n",
      "Feature 1 : 170.138\n",
      "Feature 2 : 0.085\n",
      "Feature 3 : 31685.015\n",
      "Feature 4 : 16478.46\n",
      "Feature 5 : 0.681\n",
      "Feature 6 : 36526.892\n",
      "Feature 7 : 4253.565\n",
      "Feature 8 : 32.107\n",
      "Feature 9 : 1586.885\n",
      "Feature 10 : 548.349\n",
      "Feature 11 : 3160.007\n",
      "Feature 12 : 714.278\n",
      "Feature 13 : 0.27\n",
      "Feature 14 : 137.134\n",
      "Feature 15 : 194.419\n",
      "Feature 16 : 74.411\n",
      "Feature 17 : 616.842\n",
      "Feature 18 : 0.494\n",
      "Feature 19 : 23.101\n",
      "Feature 20 : 2298.589\n",
      "Feature 21 : 2007.477\n",
      "Feature 22 : 1648.754\n",
      "Feature 23 : 4248.853\n",
      "Feature 24 : 2332.485\n",
      "Feature 25 : 2827.092\n",
      "Feature 26 : 2682.986\n",
      "Feature 27 : 2091.775\n",
      "Feature 28 : 3275.647\n",
      "Feature 29 : 3966.054\n",
      "Feature 30 : 1366.331\n",
      "Feature 31 : 1530.776\n",
      "Feature 32 : 1484.391\n",
      "Feature 33 : 10979.686\n",
      "Feature 34 : 422.48\n",
      "Feature 35 : 3039.108\n",
      "Feature 36 : 615.476\n",
      "Feature 37 : 2184.207\n",
      "Feature 38 : 811.673\n",
      "Feature 39 : 2704.415\n",
      "Feature 40 : 1519.227\n",
      "Feature 41 : 912.394\n",
      "Feature 42 : 2193.291\n",
      "Feature 43 : 3326.3\n",
      "Feature 44 : 1831.438\n",
      "Feature 45 : 7463.12\n",
      "Feature 46 : 820.488\n",
      "Feature 47 : 651.59\n",
      "Feature 48 : 499.618\n",
      "Feature 49 : 129.314\n",
      "Feature 50 : 127.175\n",
      "Feature 51 : 197.291\n",
      "Feature 52 : 148.081\n",
      "Feature 53 : 127.015\n",
      "\n"
     ]
    },
    {
     "data": {
      "image/png": "[encoded data removed]",
      "text/plain": [
       "<Figure size 640x480 with 1 Axes>"
      ]
     },
     "metadata": {},
     "output_type": "display_data"
    }
   ],
   "source": [
    "from sklearn.feature_selection import SelectKBest,f_classif, f_regression\n",
    "\n",
    "Kbest_classif = SelectKBest(score_func=f_regression, k=6)   # score_func=f_regression, ,, for regreassion problem \n",
    "Kbest_classif.fit(X_train, y_train)\n",
    "\n",
    "# what are scores for the features\n",
    "for i in range(len(Kbest_classif.scores_)):\n",
    "    print(f'Feature {i} : {round(Kbest_classif.scores_[i],3)}')\n",
    "\n",
    "print()\n",
    "\n",
    "plt.bar([X_train.columns[i] for i in range(len(Kbest_classif.scores_))], Kbest_classif.scores_)\n",
    "plt.xticks(rotation=90)\n",
    "plt.rcParams[\"figure.figsize\"] = (8,6)\n",
    "plt.show()"
   ]
  },
  {
   "cell_type": "code",
   "execution_count": 34,
   "id": "0709e244",
   "metadata": {
    "scrolled": true
   },
   "outputs": [
    {
     "data": {
      "image/png": "[encoded data removed]",
      "text/plain": [
       "<Figure size 1000x400 with 1 Axes>"
      ]
     },
     "metadata": {},
     "output_type": "display_data"
    }
   ],
   "source": [
    "data = sorted(list(zip([X_train.columns[i] for i in range(len(Kbest_classif.scores_))],Kbest_classif.scores_)),key=lambda x:x[1])\n",
    "\n",
    "# Separate the data into two lists\n",
    "features = [item[0] for item in data]\n",
    "scores = [item[1] for item in data]\n",
    "\n",
    "# Create a horizontal bar plot\n",
    "plt.figure(figsize=(10, 4))\n",
    "plt.bar(features, scores)\n",
    "plt.xticks(rotation=90)\n",
    "plt.xlabel('Scores')\n",
    "plt.ylabel('Features')\n",
    "plt.title('Feature Importance Scores')\n",
    "# plt.savefig(\"FeatureImportance(SelectKBest).pdf\",dpi=300,format=\"pdf\",bbox_inches=\"tight\")\n",
    "plt.show()"
   ]
  },
  {
   "cell_type": "markdown",
   "id": "55f72c15",
   "metadata": {},
   "source": [
    "# Mutual Info"
   ]
  },
  {
   "cell_type": "code",
   "execution_count": 35,
   "id": "fec7d810",
   "metadata": {
    "scrolled": true
   },
   "outputs": [
    {
     "name": "stdout",
     "output_type": "stream",
     "text": [
      "Feature 0 : 0.149\n",
      "Feature 1 : 0.188\n",
      "Feature 2 : 0.053\n",
      "Feature 3 : 0.886\n",
      "Feature 4 : 0.626\n",
      "Feature 5 : 0.029\n",
      "Feature 6 : 1.214\n",
      "Feature 7 : 0.276\n",
      "Feature 8 : 0.0\n",
      "Feature 9 : 0.122\n",
      "Feature 10 : 0.033\n",
      "Feature 11 : 0.198\n",
      "Feature 12 : 0.039\n",
      "Feature 13 : 0.006\n",
      "Feature 14 : 0.019\n",
      "Feature 15 : 0.025\n",
      "Feature 16 : 0.004\n",
      "Feature 17 : 0.076\n",
      "Feature 18 : 0.009\n",
      "Feature 19 : 0.004\n",
      "Feature 20 : 0.152\n",
      "Feature 21 : 0.124\n",
      "Feature 22 : 0.101\n",
      "Feature 23 : 0.257\n",
      "Feature 24 : 0.142\n",
      "Feature 25 : 0.202\n",
      "Feature 26 : 0.146\n",
      "Feature 27 : 0.112\n",
      "Feature 28 : 0.172\n",
      "Feature 29 : 0.279\n",
      "Feature 30 : 0.063\n",
      "Feature 31 : 0.076\n",
      "Feature 32 : 0.067\n",
      "Feature 33 : 0.443\n",
      "Feature 34 : 0.021\n",
      "Feature 35 : 0.181\n",
      "Feature 36 : 0.031\n",
      "Feature 37 : 0.115\n",
      "Feature 38 : 0.051\n",
      "Feature 39 : 0.175\n",
      "Feature 40 : 0.096\n",
      "Feature 41 : 0.131\n",
      "Feature 42 : 0.176\n",
      "Feature 43 : 0.192\n",
      "Feature 44 : 0.099\n",
      "Feature 45 : 0.329\n",
      "Feature 46 : 0.103\n",
      "Feature 47 : 0.138\n",
      "Feature 48 : 0.135\n",
      "Feature 49 : 0.095\n",
      "Feature 50 : 0.079\n",
      "Feature 51 : 0.045\n",
      "Feature 52 : 0.076\n",
      "Feature 53 : 0.09\n",
      "\n"
     ]
    },
    {
     "data": {
      "image/png": "[encoded data removed]",
      "text/plain": [
       "<Figure size 800x600 with 1 Axes>"
      ]
     },
     "metadata": {},
     "output_type": "display_data"
    }
   ],
   "source": [
    "from sklearn.feature_selection import mutual_info_classif, mutual_info_regression\n",
    "\n",
    "infogain_classif = SelectKBest(score_func=mutual_info_regression, k=6)\n",
    "\n",
    "infogain_classif.fit(X_train, y_train)\n",
    "\n",
    "# what are scores for the features\n",
    "for i in range(len(infogain_classif.scores_)):\n",
    "    print(f'Feature {i} : {round(infogain_classif.scores_[i],3)}')\n",
    "\n",
    "print()\n",
    "\n",
    "# plot the scores\n",
    "plt.bar([X_train.columns[i] for i in range(len(infogain_classif.scores_))], infogain_classif.scores_)\n",
    "plt.xticks(rotation=90)\n",
    "plt.rcParams[\"figure.figsize\"] = (8,6)\n",
    "# plt.savefig(\"FeatureImportance(Mutual Info).pdf\",dpi=300,format=\"pdf\",bbox_inches=\"tight\")\n",
    "plt.show()"
   ]
  },
  {
   "cell_type": "markdown",
   "id": "3c4dc9f1",
   "metadata": {},
   "source": [
    "# Percentile"
   ]
  },
  {
   "cell_type": "code",
   "execution_count": 36,
   "id": "01c1ff6b",
   "metadata": {},
   "outputs": [
    {
     "name": "stdout",
     "output_type": "stream",
     "text": [
      "ID\n",
      "Age\n",
      "Overall\n",
      "Potential\n",
      "Value\n",
      "Wage\n",
      "International Reputation\n",
      "Skill Moves\n",
      "Crossing\n",
      "Finishing\n",
      "HeadingAccuracy\n",
      "ShortPassing\n",
      "Volleys\n",
      "Dribbling\n",
      "Curve\n",
      "FKAccuracy\n",
      "LongPassing\n",
      "BallControl\n",
      "Reactions\n",
      "ShotPower\n",
      "Stamina\n",
      "LongShots\n",
      "Aggression\n",
      "Positioning\n",
      "Vision\n",
      "Penalties\n",
      "Composure\n"
     ]
    }
   ],
   "source": [
    "from sklearn.feature_selection import SelectPercentile\n",
    "percentile = SelectPercentile(percentile=50)\n",
    "percentile.fit(X_train, y_train)\n",
    "for b, c in zip(percentile.get_support(),X_train.columns):\n",
    "    if b==True:\n",
    "        print(c)"
   ]
  },
  {
   "cell_type": "markdown",
   "id": "90af2ded",
   "metadata": {},
   "source": [
    "# RandomForest"
   ]
  },
  {
   "cell_type": "code",
   "execution_count": 37,
   "id": "0adf83d7",
   "metadata": {},
   "outputs": [
    {
     "data": {
      "text/html": [
       "<style>#sk-container-id-1 {color: black;background-color: white;}#sk-container-id-1 pre{padding: 0;}#sk-container-id-1 div.sk-toggleable {background-color: white;}#sk-container-id-1 label.sk-toggleable__label {cursor: pointer;display: block;width: 100%;margin-bottom: 0;padding: 0.3em;box-sizing: border-box;text-align: center;}#sk-container-id-1 label.sk-toggleable__label-arrow:before {content: \"▸\";float: left;margin-right: 0.25em;color: #696969;}#sk-container-id-1 label.sk-toggleable__label-arrow:hover:before {color: black;}#sk-container-id-1 div.sk-estimator:hover label.sk-toggleable__label-arrow:before {color: black;}#sk-container-id-1 div.sk-toggleable__content {max-height: 0;max-width: 0;overflow: hidden;text-align: left;background-color: #f0f8ff;}#sk-container-id-1 div.sk-toggleable__content pre {margin: 0.2em;color: black;border-radius: 0.25em;background-color: #f0f8ff;}#sk-container-id-1 input.sk-toggleable__control:checked~div.sk-toggleable__content {max-height: 200px;max-width: 100%;overflow: auto;}#sk-container-id-1 input.sk-toggleable__control:checked~label.sk-toggleable__label-arrow:before {content: \"▾\";}#sk-container-id-1 div.sk-estimator input.sk-toggleable__control:checked~label.sk-toggleable__label {background-color: #d4ebff;}#sk-container-id-1 div.sk-label input.sk-toggleable__control:checked~label.sk-toggleable__label {background-color: #d4ebff;}#sk-container-id-1 input.sk-hidden--visually {border: 0;clip: rect(1px 1px 1px 1px);clip: rect(1px, 1px, 1px, 1px);height: 1px;margin: -1px;overflow: hidden;padding: 0;position: absolute;width: 1px;}#sk-container-id-1 div.sk-estimator {font-family: monospace;background-color: #f0f8ff;border: 1px dotted black;border-radius: 0.25em;box-sizing: border-box;margin-bottom: 0.5em;}#sk-container-id-1 div.sk-estimator:hover {background-color: #d4ebff;}#sk-container-id-1 div.sk-parallel-item::after {content: \"\";width: 100%;border-bottom: 1px solid gray;flex-grow: 1;}#sk-container-id-1 div.sk-label:hover label.sk-toggleable__label {background-color: #d4ebff;}#sk-container-id-1 div.sk-serial::before {content: \"\";position: absolute;border-left: 1px solid gray;box-sizing: border-box;top: 0;bottom: 0;left: 50%;z-index: 0;}#sk-container-id-1 div.sk-serial {display: flex;flex-direction: column;align-items: center;background-color: white;padding-right: 0.2em;padding-left: 0.2em;position: relative;}#sk-container-id-1 div.sk-item {position: relative;z-index: 1;}#sk-container-id-1 div.sk-parallel {display: flex;align-items: stretch;justify-content: center;background-color: white;position: relative;}#sk-container-id-1 div.sk-item::before, #sk-container-id-1 div.sk-parallel-item::before {content: \"\";position: absolute;border-left: 1px solid gray;box-sizing: border-box;top: 0;bottom: 0;left: 50%;z-index: -1;}#sk-container-id-1 div.sk-parallel-item {display: flex;flex-direction: column;z-index: 1;position: relative;background-color: white;}#sk-container-id-1 div.sk-parallel-item:first-child::after {align-self: flex-end;width: 50%;}#sk-container-id-1 div.sk-parallel-item:last-child::after {align-self: flex-start;width: 50%;}#sk-container-id-1 div.sk-parallel-item:only-child::after {width: 0;}#sk-container-id-1 div.sk-dashed-wrapped {border: 1px dashed gray;margin: 0 0.4em 0.5em 0.4em;box-sizing: border-box;padding-bottom: 0.4em;background-color: white;}#sk-container-id-1 div.sk-label label {font-family: monospace;font-weight: bold;display: inline-block;line-height: 1.2em;}#sk-container-id-1 div.sk-label-container {text-align: center;}#sk-container-id-1 div.sk-container {/* jupyter's `normalize.less` sets `[hidden] { display: none; }` but bootstrap.min.css set `[hidden] { display: none !important; }` so we also need the `!important` here to be able to override the default hidden behavior on the sphinx rendered scikit-learn.org. See: https://github.com/scikit-learn/scikit-learn/issues/21755 */display: inline-block !important;position: relative;}#sk-container-id-1 div.sk-text-repr-fallback {display: none;}</style><div id=\"sk-container-id-1\" class=\"sk-top-container\"><div class=\"sk-text-repr-fallback\"><pre>SelectFromModel(estimator=RandomForestRegressor(random_state=42),\n",
       "                threshold=&#x27;median&#x27;)</pre><b>In a Jupyter environment, please rerun this cell to show the HTML representation or trust the notebook. <br />On GitHub, the HTML representation is unable to render, please try loading this page with nbviewer.org.</b></div><div class=\"sk-container\" hidden><div class=\"sk-item sk-dashed-wrapped\"><div class=\"sk-label-container\"><div class=\"sk-label sk-toggleable\"><input class=\"sk-toggleable__control sk-hidden--visually\" id=\"sk-estimator-id-1\" type=\"checkbox\" ><label for=\"sk-estimator-id-1\" class=\"sk-toggleable__label sk-toggleable__label-arrow\">SelectFromModel</label><div class=\"sk-toggleable__content\"><pre>SelectFromModel(estimator=RandomForestRegressor(random_state=42),\n",
       "                threshold=&#x27;median&#x27;)</pre></div></div></div><div class=\"sk-parallel\"><div class=\"sk-parallel-item\"><div class=\"sk-item\"><div class=\"sk-label-container\"><div class=\"sk-label sk-toggleable\"><input class=\"sk-toggleable__control sk-hidden--visually\" id=\"sk-estimator-id-2\" type=\"checkbox\" ><label for=\"sk-estimator-id-2\" class=\"sk-toggleable__label sk-toggleable__label-arrow\">estimator: RandomForestRegressor</label><div class=\"sk-toggleable__content\"><pre>RandomForestRegressor(random_state=42)</pre></div></div></div><div class=\"sk-serial\"><div class=\"sk-item\"><div class=\"sk-estimator sk-toggleable\"><input class=\"sk-toggleable__control sk-hidden--visually\" id=\"sk-estimator-id-3\" type=\"checkbox\" ><label for=\"sk-estimator-id-3\" class=\"sk-toggleable__label sk-toggleable__label-arrow\">RandomForestRegressor</label><div class=\"sk-toggleable__content\"><pre>RandomForestRegressor(random_state=42)</pre></div></div></div></div></div></div></div></div></div></div>"
      ],
      "text/plain": [
       "SelectFromModel(estimator=RandomForestRegressor(random_state=42),\n",
       "                threshold='median')"
      ]
     },
     "execution_count": 37,
     "metadata": {},
     "output_type": "execute_result"
    }
   ],
   "source": [
    "from sklearn.ensemble import RandomForestRegressor\n",
    "from sklearn.feature_selection import SelectFromModel\n",
    "model_based_feature = SelectFromModel(RandomForestRegressor(n_estimators=100, random_state=42),threshold=\"median\")\n",
    "\n",
    "model_based_feature.fit(X_train, y_train)"
   ]
  },
  {
   "cell_type": "code",
   "execution_count": 38,
   "id": "fd20c1c4",
   "metadata": {},
   "outputs": [
    {
     "data": {
      "text/plain": [
       "array([ True, False,  True, False,  True,  True,  True,  True, False,\n",
       "       False, False, False, False, False, False, False, False, False,\n",
       "       False, False, False, False, False, False, False, False, False,\n",
       "       False, False, False, False, False, False, False, False, False,\n",
       "       False, False, False, False, False, False, False, False, False,\n",
       "       False, False, False, False, False, False, False, False, False])"
      ]
     },
     "execution_count": 38,
     "metadata": {},
     "output_type": "execute_result"
    }
   ],
   "source": [
    "from sklearn.feature_selection import RFE\n",
    "rfe_features = RFE(RandomForestRegressor(n_estimators=10, random_state=42),n_features_to_select=6)\n",
    "\n",
    "rfe_features.fit(X_train, y_train)\n",
    "\n",
    "rfe_features.get_support()  # how can we know which column is true"
   ]
  },
  {
   "cell_type": "code",
   "execution_count": 39,
   "id": "076f2989",
   "metadata": {
    "scrolled": true
   },
   "outputs": [],
   "source": [
    "# from sklearn.feature_selection import RFECV\n",
    "\n",
    "# rfecv = RFECV(estimator=RandomForestRegressor(n_estimators=2, random_state=42) , step=1, cv=5,scoring='neg_mean_absolute_error')   #5-fold cross-validation\n",
    "# rfecv = rfecv.fit(X_train, y_train)\n",
    "\n",
    "# print('Optimal number of features :', rfecv.n_features_)\n",
    "# print('Best features :', X_train.columns[rfecv.support_])"
   ]
  },
  {
   "cell_type": "markdown",
   "id": "ea604314",
   "metadata": {},
   "source": [
    "# Chi-Squared"
   ]
  },
  {
   "cell_type": "code",
   "execution_count": 40,
   "id": "b908d66c",
   "metadata": {},
   "outputs": [
    {
     "data": {
      "text/plain": [
       "(array([8.85797452e+06, 7.33295889e+03, 3.86319262e+04, 2.52380696e+04,\n",
       "        1.50750101e+04, 1.37733049e+05, 2.31421269e+05, 3.31749792e+05,\n",
       "        2.53087395e+02, 9.13258985e+03, 4.00098511e+02, 1.67963335e+03,\n",
       "        2.66848154e+03, 7.08724407e+02, 9.08001388e+03, 2.02318236e+04,\n",
       "        2.69758197e+05, 1.66421470e+03, 3.39624110e+03, 2.81901082e+03,\n",
       "        2.50435824e+04, 2.75886894e+04, 1.79916963e+04, 1.99583186e+04,\n",
       "        2.72600844e+04, 2.58065497e+04, 2.88586489e+04, 2.44620240e+04,\n",
       "        2.10815571e+04, 2.39562198e+04, 1.10898298e+04, 1.12210124e+04,\n",
       "        1.18765015e+04, 1.93756322e+04, 6.98646785e+03, 2.18908299e+04,\n",
       "        6.05922180e+03, 1.65335397e+04, 7.90117126e+03, 3.04136950e+04,\n",
       "        1.85669314e+04, 2.20057665e+04, 2.64248403e+04, 1.86234284e+04,\n",
       "        1.77072931e+04, 1.85902450e+04, 1.92855921e+04, 2.16442045e+04,\n",
       "        2.02640546e+04, 1.81083424e+04, 1.65099601e+04, 2.30440931e+04,\n",
       "        2.22887868e+04, 2.01115185e+04]),\n",
       " array([0.00000000e+000, 0.00000000e+000, 0.00000000e+000, 0.00000000e+000,\n",
       "        0.00000000e+000, 0.00000000e+000, 0.00000000e+000, 0.00000000e+000,\n",
       "        1.00000000e+000, 0.00000000e+000, 1.00000000e+000, 1.34518450e-023,\n",
       "        2.25507184e-124, 1.00000000e+000, 0.00000000e+000, 0.00000000e+000,\n",
       "        0.00000000e+000, 1.62287258e-022, 5.59072799e-223, 1.53545571e-143,\n",
       "        0.00000000e+000, 0.00000000e+000, 0.00000000e+000, 0.00000000e+000,\n",
       "        0.00000000e+000, 0.00000000e+000, 0.00000000e+000, 0.00000000e+000,\n",
       "        0.00000000e+000, 0.00000000e+000, 0.00000000e+000, 0.00000000e+000,\n",
       "        0.00000000e+000, 0.00000000e+000, 0.00000000e+000, 0.00000000e+000,\n",
       "        0.00000000e+000, 0.00000000e+000, 0.00000000e+000, 0.00000000e+000,\n",
       "        0.00000000e+000, 0.00000000e+000, 0.00000000e+000, 0.00000000e+000,\n",
       "        0.00000000e+000, 0.00000000e+000, 0.00000000e+000, 0.00000000e+000,\n",
       "        0.00000000e+000, 0.00000000e+000, 0.00000000e+000, 0.00000000e+000,\n",
       "        0.00000000e+000, 0.00000000e+000]))"
      ]
     },
     "execution_count": 40,
     "metadata": {},
     "output_type": "execute_result"
    }
   ],
   "source": [
    "from sklearn.feature_selection import chi2\n",
    "f_p_values=chi2(X_train,y_train)\n",
    "f_p_values"
   ]
  },
  {
   "cell_type": "markdown",
   "id": "34d73387",
   "metadata": {},
   "source": [
    "# Principal Component Analysis (PCA)"
   ]
  },
  {
   "cell_type": "code",
   "execution_count": 41,
   "id": "e91bc761",
   "metadata": {},
   "outputs": [
    {
     "data": {
      "text/html": [
       "<div>\n",
       "<style scoped>\n",
       "    .dataframe tbody tr th:only-of-type {\n",
       "        vertical-align: middle;\n",
       "    }\n",
       "\n",
       "    .dataframe tbody tr th {\n",
       "        vertical-align: top;\n",
       "    }\n",
       "\n",
       "    .dataframe thead th {\n",
       "        text-align: right;\n",
       "    }\n",
       "</style>\n",
       "<table border=\"1\" class=\"dataframe\">\n",
       "  <thead>\n",
       "    <tr style=\"text-align: right;\">\n",
       "      <th></th>\n",
       "      <th>principal component 1</th>\n",
       "      <th>principal component 2</th>\n",
       "    </tr>\n",
       "  </thead>\n",
       "  <tbody>\n",
       "    <tr>\n",
       "      <th>0</th>\n",
       "      <td>7739.047863</td>\n",
       "      <td>-288.720826</td>\n",
       "    </tr>\n",
       "    <tr>\n",
       "      <th>1</th>\n",
       "      <td>-1416.460092</td>\n",
       "      <td>-133.140925</td>\n",
       "    </tr>\n",
       "    <tr>\n",
       "      <th>2</th>\n",
       "      <td>-1070.108398</td>\n",
       "      <td>-286.116352</td>\n",
       "    </tr>\n",
       "    <tr>\n",
       "      <th>3</th>\n",
       "      <td>-2578.125405</td>\n",
       "      <td>-161.523739</td>\n",
       "    </tr>\n",
       "    <tr>\n",
       "      <th>4</th>\n",
       "      <td>564.625304</td>\n",
       "      <td>705.566431</td>\n",
       "    </tr>\n",
       "  </tbody>\n",
       "</table>\n",
       "</div>"
      ],
      "text/plain": [
       "   principal component 1  principal component 2\n",
       "0            7739.047863            -288.720826\n",
       "1           -1416.460092            -133.140925\n",
       "2           -1070.108398            -286.116352\n",
       "3           -2578.125405            -161.523739\n",
       "4             564.625304             705.566431"
      ]
     },
     "execution_count": 41,
     "metadata": {},
     "output_type": "execute_result"
    }
   ],
   "source": [
    "pca = PCA(n_components=2)\n",
    "PC = pca.fit_transform(X_train)\n",
    "# selected_features_pca = [f\"PCA_{i}\" for i in range(1, 6)]\n",
    "p_Df = pd.DataFrame(data = PC,columns = ['principal component 1', 'principal component 2'])\n",
    "p_Df.head()"
   ]
  },
  {
   "cell_type": "markdown",
   "id": "2a2bcf64",
   "metadata": {},
   "source": [
    "# Genetic Algorithm"
   ]
  },
  {
   "cell_type": "code",
   "execution_count": 50,
   "id": "28f98cbf",
   "metadata": {},
   "outputs": [],
   "source": [
    "import matplotlib.pyplot as plt\n",
    "from sklearn_genetic import GAFeatureSelectionCV\n",
    "from sklearn_genetic.plots import plot_fitness_evolution\n",
    "from sklearn.model_selection import train_test_split, StratifiedKFold\n",
    "from sklearn.svm import SVC\n",
    "from sklearn.datasets import load_iris\n",
    "from sklearn.metrics import r2_score\n",
    "import numpy as np"
   ]
  },
  {
   "cell_type": "code",
   "execution_count": 44,
   "id": "7a0a371b",
   "metadata": {},
   "outputs": [],
   "source": [
    "from sklearn.metrics import r2_score"
   ]
  },
  {
   "cell_type": "code",
   "execution_count": 45,
   "id": "69fdf829",
   "metadata": {},
   "outputs": [],
   "source": [
    "clf = RandomForestRegressor()\n",
    "\n",
    "evolved_estimator = GAFeatureSelectionCV(\n",
    "    estimator=clf,\n",
    "    cv=3,\n",
    "    scoring=\"r2\",\n",
    "    population_size=10,\n",
    "    generations=1,\n",
    "    n_jobs=-1,\n",
    "    verbose=True,\n",
    "    keep_top_k=2,\n",
    "    elitism=True,\n",
    ")"
   ]
  },
  {
   "cell_type": "code",
   "execution_count": 46,
   "id": "0018fe9a",
   "metadata": {},
   "outputs": [
    {
     "name": "stdout",
     "output_type": "stream",
     "text": [
      "gen\tnevals\tfitness \tfitness_std\tfitness_max\tfitness_min\n",
      "0  \t10    \t0.941424\t0.0517543  \t0.98145    \t0.834247   \n",
      "1  \t20    \t0.979588\t0.00382375 \t0.982456   \t0.972316   \n"
     ]
    },
    {
     "data": {
      "text/html": [
       "<style>#sk-container-id-2 {color: black;background-color: white;}#sk-container-id-2 pre{padding: 0;}#sk-container-id-2 div.sk-toggleable {background-color: white;}#sk-container-id-2 label.sk-toggleable__label {cursor: pointer;display: block;width: 100%;margin-bottom: 0;padding: 0.3em;box-sizing: border-box;text-align: center;}#sk-container-id-2 label.sk-toggleable__label-arrow:before {content: \"▸\";float: left;margin-right: 0.25em;color: #696969;}#sk-container-id-2 label.sk-toggleable__label-arrow:hover:before {color: black;}#sk-container-id-2 div.sk-estimator:hover label.sk-toggleable__label-arrow:before {color: black;}#sk-container-id-2 div.sk-toggleable__content {max-height: 0;max-width: 0;overflow: hidden;text-align: left;background-color: #f0f8ff;}#sk-container-id-2 div.sk-toggleable__content pre {margin: 0.2em;color: black;border-radius: 0.25em;background-color: #f0f8ff;}#sk-container-id-2 input.sk-toggleable__control:checked~div.sk-toggleable__content {max-height: 200px;max-width: 100%;overflow: auto;}#sk-container-id-2 input.sk-toggleable__control:checked~label.sk-toggleable__label-arrow:before {content: \"▾\";}#sk-container-id-2 div.sk-estimator input.sk-toggleable__control:checked~label.sk-toggleable__label {background-color: #d4ebff;}#sk-container-id-2 div.sk-label input.sk-toggleable__control:checked~label.sk-toggleable__label {background-color: #d4ebff;}#sk-container-id-2 input.sk-hidden--visually {border: 0;clip: rect(1px 1px 1px 1px);clip: rect(1px, 1px, 1px, 1px);height: 1px;margin: -1px;overflow: hidden;padding: 0;position: absolute;width: 1px;}#sk-container-id-2 div.sk-estimator {font-family: monospace;background-color: #f0f8ff;border: 1px dotted black;border-radius: 0.25em;box-sizing: border-box;margin-bottom: 0.5em;}#sk-container-id-2 div.sk-estimator:hover {background-color: #d4ebff;}#sk-container-id-2 div.sk-parallel-item::after {content: \"\";width: 100%;border-bottom: 1px solid gray;flex-grow: 1;}#sk-container-id-2 div.sk-label:hover label.sk-toggleable__label {background-color: #d4ebff;}#sk-container-id-2 div.sk-serial::before {content: \"\";position: absolute;border-left: 1px solid gray;box-sizing: border-box;top: 0;bottom: 0;left: 50%;z-index: 0;}#sk-container-id-2 div.sk-serial {display: flex;flex-direction: column;align-items: center;background-color: white;padding-right: 0.2em;padding-left: 0.2em;position: relative;}#sk-container-id-2 div.sk-item {position: relative;z-index: 1;}#sk-container-id-2 div.sk-parallel {display: flex;align-items: stretch;justify-content: center;background-color: white;position: relative;}#sk-container-id-2 div.sk-item::before, #sk-container-id-2 div.sk-parallel-item::before {content: \"\";position: absolute;border-left: 1px solid gray;box-sizing: border-box;top: 0;bottom: 0;left: 50%;z-index: -1;}#sk-container-id-2 div.sk-parallel-item {display: flex;flex-direction: column;z-index: 1;position: relative;background-color: white;}#sk-container-id-2 div.sk-parallel-item:first-child::after {align-self: flex-end;width: 50%;}#sk-container-id-2 div.sk-parallel-item:last-child::after {align-self: flex-start;width: 50%;}#sk-container-id-2 div.sk-parallel-item:only-child::after {width: 0;}#sk-container-id-2 div.sk-dashed-wrapped {border: 1px dashed gray;margin: 0 0.4em 0.5em 0.4em;box-sizing: border-box;padding-bottom: 0.4em;background-color: white;}#sk-container-id-2 div.sk-label label {font-family: monospace;font-weight: bold;display: inline-block;line-height: 1.2em;}#sk-container-id-2 div.sk-label-container {text-align: center;}#sk-container-id-2 div.sk-container {/* jupyter's `normalize.less` sets `[hidden] { display: none; }` but bootstrap.min.css set `[hidden] { display: none !important; }` so we also need the `!important` here to be able to override the default hidden behavior on the sphinx rendered scikit-learn.org. See: https://github.com/scikit-learn/scikit-learn/issues/21755 */display: inline-block !important;position: relative;}#sk-container-id-2 div.sk-text-repr-fallback {display: none;}</style><div id=\"sk-container-id-2\" class=\"sk-top-container\"><div class=\"sk-text-repr-fallback\"><pre>GAFeatureSelectionCV(estimator=RandomForestRegressor(), generations=1,\n",
       "                     keep_top_k=2, n_jobs=-1, population_size=10, scoring=&#x27;r2&#x27;)</pre><b>In a Jupyter environment, please rerun this cell to show the HTML representation or trust the notebook. <br />On GitHub, the HTML representation is unable to render, please try loading this page with nbviewer.org.</b></div><div class=\"sk-container\" hidden><div class=\"sk-item sk-dashed-wrapped\"><div class=\"sk-label-container\"><div class=\"sk-label sk-toggleable\"><input class=\"sk-toggleable__control sk-hidden--visually\" id=\"sk-estimator-id-4\" type=\"checkbox\" ><label for=\"sk-estimator-id-4\" class=\"sk-toggleable__label sk-toggleable__label-arrow\">GAFeatureSelectionCV</label><div class=\"sk-toggleable__content\"><pre>GAFeatureSelectionCV(estimator=RandomForestRegressor(), generations=1,\n",
       "                     keep_top_k=2, n_jobs=-1, population_size=10, scoring=&#x27;r2&#x27;)</pre></div></div></div><div class=\"sk-parallel\"><div class=\"sk-parallel-item\"><div class=\"sk-item\"><div class=\"sk-label-container\"><div class=\"sk-label sk-toggleable\"><input class=\"sk-toggleable__control sk-hidden--visually\" id=\"sk-estimator-id-5\" type=\"checkbox\" ><label for=\"sk-estimator-id-5\" class=\"sk-toggleable__label sk-toggleable__label-arrow\">estimator: RandomForestRegressor</label><div class=\"sk-toggleable__content\"><pre>RandomForestRegressor()</pre></div></div></div><div class=\"sk-serial\"><div class=\"sk-item\"><div class=\"sk-estimator sk-toggleable\"><input class=\"sk-toggleable__control sk-hidden--visually\" id=\"sk-estimator-id-6\" type=\"checkbox\" ><label for=\"sk-estimator-id-6\" class=\"sk-toggleable__label sk-toggleable__label-arrow\">RandomForestRegressor</label><div class=\"sk-toggleable__content\"><pre>RandomForestRegressor()</pre></div></div></div></div></div></div></div></div></div></div>"
      ],
      "text/plain": [
       "GAFeatureSelectionCV(estimator=RandomForestRegressor(), generations=1,\n",
       "                     keep_top_k=2, n_jobs=-1, population_size=10, scoring='r2')"
      ]
     },
     "execution_count": 46,
     "metadata": {},
     "output_type": "execute_result"
    }
   ],
   "source": [
    "# Train and select the features\n",
    "evolved_estimator.fit(X_train, y_train)"
   ]
  },
  {
   "cell_type": "code",
   "execution_count": 55,
   "id": "0801652a",
   "metadata": {},
   "outputs": [
    {
     "name": "stdout",
     "output_type": "stream",
     "text": [
      "Accuracy:  0.9829803008554059\n"
     ]
    }
   ],
   "source": [
    "features = evolved_estimator.support_\n",
    "\n",
    "# Predict only with the subset of selected features\n",
    "y_predict_ga = evolved_estimator.predict(X_test)\n",
    "accuracy = r2_score(y_test, y_predict_ga)\n",
    "print(\"Accuracy: \",accuracy)"
   ]
  },
  {
   "cell_type": "code",
   "execution_count": 63,
   "id": "e0132b71",
   "metadata": {},
   "outputs": [
    {
     "name": "stdout",
     "output_type": "stream",
     "text": [
      "Age\n",
      "Nationality\n",
      "Overall\n",
      "Value\n",
      "Wage\n",
      "Preferred Foot\n",
      "Body Type\n",
      "Jersey Number\n",
      "Joined\n",
      "Contract Valid Until\n",
      "Height\n",
      "Finishing\n",
      "ShortPassing\n",
      "Volleys\n",
      "Curve\n",
      "LongPassing\n",
      "Acceleration\n",
      "Reactions\n",
      "Balance\n",
      "Strength\n",
      "LongShots\n",
      "Interceptions\n",
      "Positioning\n",
      "Vision\n",
      "Composure\n",
      "StandingTackle\n",
      "GKHandling\n",
      "GKKicking\n",
      "GKPositioning\n",
      "GKReflexes\n"
     ]
    }
   ],
   "source": [
    "for b, c in zip(features,df2.columns):\n",
    "    if b==True:\n",
    "        print(c)"
   ]
  },
  {
   "cell_type": "code",
   "execution_count": 64,
   "id": "922407ec",
   "metadata": {},
   "outputs": [
    {
     "name": "stdout",
     "output_type": "stream",
     "text": [
      "['accuracy', 'adjusted_mutual_info_score', 'adjusted_rand_score', 'average_precision', 'balanced_accuracy', 'completeness_score', 'explained_variance', 'f1', 'f1_macro', 'f1_micro', 'f1_samples', 'f1_weighted', 'fowlkes_mallows_score', 'homogeneity_score', 'jaccard', 'jaccard_macro', 'jaccard_micro', 'jaccard_samples', 'jaccard_weighted', 'matthews_corrcoef', 'max_error', 'mutual_info_score', 'neg_brier_score', 'neg_log_loss', 'neg_mean_absolute_error', 'neg_mean_absolute_percentage_error', 'neg_mean_gamma_deviance', 'neg_mean_poisson_deviance', 'neg_mean_squared_error', 'neg_mean_squared_log_error', 'neg_median_absolute_error', 'neg_negative_likelihood_ratio', 'neg_root_mean_squared_error', 'normalized_mutual_info_score', 'positive_likelihood_ratio', 'precision', 'precision_macro', 'precision_micro', 'precision_samples', 'precision_weighted', 'r2', 'rand_score', 'recall', 'recall_macro', 'recall_micro', 'recall_samples', 'recall_weighted', 'roc_auc', 'roc_auc_ovo', 'roc_auc_ovo_weighted', 'roc_auc_ovr', 'roc_auc_ovr_weighted', 'top_k_accuracy', 'v_measure_score']\n"
     ]
    }
   ],
   "source": [
    "import sklearn\n",
    "print(sklearn.metrics.get_scorer_names())"
   ]
  },
  {
   "cell_type": "code",
   "execution_count": null,
   "id": "a35bbfbc",
   "metadata": {},
   "outputs": [],
   "source": []
  }
 ],
 "metadata": {
  "kernelspec": {
   "display_name": "Python 3 (ipykernel)",
   "language": "python",
   "name": "python3"
  },
  "language_info": {
   "codemirror_mode": {
    "name": "ipython",
    "version": 3
   },
   "file_extension": ".py",
   "mimetype": "text/x-python",
   "name": "python",
   "nbconvert_exporter": "python",
   "pygments_lexer": "ipython3",
   "version": "3.11.3"
  }
 },
 "nbformat": 4,
 "nbformat_minor": 5
}
